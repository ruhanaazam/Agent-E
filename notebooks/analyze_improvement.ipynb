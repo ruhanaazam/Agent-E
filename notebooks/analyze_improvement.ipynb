{
 "cells": [
  {
   "cell_type": "code",
   "execution_count": 1,
   "id": "d639e077-e800-41cf-8aad-ee1cfa1d2603",
   "metadata": {},
   "outputs": [
    {
     "name": "stdout",
     "output_type": "stream",
     "text": [
      "None\n"
     ]
    }
   ],
   "source": [
    "import matplotlib.pyplot as plt\n",
    "import seaborn as sns\n",
    "import pandas as pd\n",
    "import sys\n",
    "\n",
    "sys.path.append(\"/Users/ruhana/Agent-E/test\")\n",
    "from load_annotations import AnnotationLoader"
   ]
  },
  {
   "cell_type": "code",
   "execution_count": 2,
   "id": "117cfb60-5351-40ce-a5e4-ef84e6ec478c",
   "metadata": {},
   "outputs": [
    {
     "data": {
      "text/plain": [
       "Index(['task_id', 'task_index', 'start_url', 'intent', 'last_url', 'tct',\n",
       "       'start_ts', 'completion_ts', 'last_statement',\n",
       "       'validator_last_statement', 'score', 'reason', 'validate_score',\n",
       "       'validate_reason', 'screenshot_rate', 'validation_count',\n",
       "       'total_main_chat_token', 'main_chat_length', 'total_trajectory_length'],\n",
       "      dtype='object')"
      ]
     },
     "execution_count": 2,
     "metadata": {},
     "output_type": "execute_result"
    }
   ],
   "source": [
    "LOG_PATH = \"/Users/ruhana/Agent-E/new_ruhana_notes/All/logs/test_results_for_full_text/\"\n",
    "RESULT_PATH = \"/Users/ruhana/Agent-E/new_ruhana_notes/All/results/results_for_test_full_text/\"\n",
    "self_refine_annotations = AnnotationLoader(LOG_PATH, RESULT_PATH)\n",
    "\n",
    "# Load final results as a dataframe\n",
    "self_refine_results = self_refine_annotations.get_all_annotation_results()\n",
    "self_refine_results.columns"
   ]
  },
  {
   "cell_type": "code",
   "execution_count": 14,
   "id": "71b6a3b3",
   "metadata": {},
   "outputs": [],
   "source": [
    "# all_self_refinement_results = {}\n",
    "\n",
    "# for mode in [\"text\", \"vision\", \"text_vision\"]:\n",
    "#     LOG_PATH = f\"/Users/ruhana/Agent-E/new_ruhana_notes/All/logs/test_results_for_full_{mode}/\"\n",
    "#     RESULT_PATH = f\"/Users/ruhana/Agent-E/new_ruhana_notes/All/results/results_for_test_full_{mode}/\"\n",
    "#     annon_loader = AnnotationLoader(LOG_PATH, RESULT_PATH)\n",
    "#     all_self_refinement_results[mode] = annon_loader.get_all_annotation_results()\n",
    "#     print(len(all_self_refinement_results[mode]))"
   ]
  },
  {
   "cell_type": "code",
   "execution_count": 4,
   "metadata": {},
   "outputs": [],
   "source": [
    "LOG_PATH = \"/Users/ruhana/Agent-E/ruhana_notes/baseline_annotated/original_annotations/All/logs\"\n",
    "RESULT_PATH = \"/Users/ruhana/Agent-E/ruhana_notes/baseline_annotated/original_annotations/All/results\"\n",
    "original_annotation = AnnotationLoader(LOG_PATH, RESULT_PATH)\n",
    "\n",
    "# Load final results as a dataframe\n",
    "original_results = original_annotation.get_all_annotation_results()\n",
    "original_results.columns\n",
    "\n",
    "# make sure original matches the same subset!!!\n",
    "self_refine_task_id = list(self_refine_results['task_id'])\n",
    "original_results = original_results[original_results['task_id'].isin(self_refine_task_id)]"
   ]
  },
  {
   "cell_type": "code",
   "execution_count": 5,
   "id": "74951ce3-b09e-4ca1-8c5c-2a4f1b3b3498",
   "metadata": {},
   "outputs": [],
   "source": [
    "original_subset = original_results[['tct',\n",
    "       'score', 'compute_cost.cost', 'compute_cost.prompt_tokens',\n",
    "       'compute_cost.completion_tokens', 'compute_cost.total_tokens',\n",
    "       'total_main_chat_token', 'total_trajectory_length', 'main_chat_length']]\n",
    "correlation_matrix = original_subset.corr()\n",
    "\n",
    "# # Plotting the correlation matrix using matplotlib\n",
    "# plt.figure(figsize=(6, 5))\n",
    "# sns.heatmap(correlation_matrix, annot=True, cmap='coolwarm', fmt=\".1f\")\n",
    "# plt.title(\"Cost, Task Difficulty Correlation Matrix\")\n",
    "# plt.show()"
   ]
  },
  {
   "cell_type": "code",
   "execution_count": 6,
   "id": "3d896a1b-de30-4e63-8c0f-890d09ecc657",
   "metadata": {},
   "outputs": [
    {
     "name": "stdout",
     "output_type": "stream",
     "text": [
      "Agent-E Acc: 0.7474489795918368\n",
      "Self-Refine: 0.8137755102040817\n"
     ]
    }
   ],
   "source": [
    "# View mean score and group by start_url\n",
    "\n",
    "original_subset = original_results[['start_url', 'tct',\n",
    "       'score', 'compute_cost.cost', 'compute_cost.prompt_tokens',\n",
    "       'compute_cost.completion_tokens', 'compute_cost.total_tokens',\n",
    "       'total_main_chat_token', 'total_trajectory_length', 'main_chat_length']]\n",
    "original_by_url = original_subset.groupby('start_url').mean()\n",
    "\n",
    "self_refine_subset = self_refine_results[['start_url', 'tct',\n",
    "       'score','total_main_chat_token', 'total_trajectory_length', 'main_chat_length']]\n",
    "self_refine_by_url = self_refine_subset.groupby('start_url').mean()\n",
    "\n",
    "print(f\"Agent-E Acc: {original_results['score'].mean()}\\nSelf-Refine: {self_refine_subset['score'].mean()}\")"
   ]
  },
  {
   "cell_type": "code",
   "execution_count": 7,
   "id": "7dab07aa",
   "metadata": {},
   "outputs": [],
   "source": [
    "# View scores by URL\n",
    "# self_refine_by_url\n",
    "# original_by_url"
   ]
  },
  {
   "cell_type": "code",
   "execution_count": 8,
   "id": "5f87eb89-52ad-4387-8a21-1a7d92c0e93c",
   "metadata": {},
   "outputs": [
    {
     "name": "stdout",
     "output_type": "stream",
     "text": [
      "64/392\n"
     ]
    },
    {
     "data": {
      "text/plain": [
       "start_url\n",
       "https://www.google.com/travel/flights/    9\n",
       "https://www.amazon.com/                   7\n",
       "https://www.apple.com/                    7\n",
       "https://arxiv.org/                        7\n",
       "https://www.allrecipes.com/               6\n",
       "https://www.bbc.com/news/                 5\n",
       "https://www.booking.com/                  5\n",
       "https://github.com/                       5\n",
       "https://dictionary.cambridge.org/         4\n",
       "https://www.espn.com/                     3\n",
       "https://www.coursera.org/                 2\n",
       "https://huggingface.co/                   2\n",
       "https://www.google.com/maps/              1\n",
       "https://www.google.com/                   1\n",
       "Name: count, dtype: int64"
      ]
     },
     "execution_count": 8,
     "metadata": {},
     "output_type": "execute_result"
    }
   ],
   "source": [
    "original_wrong = set(original_results[original_results['score'] == 0.0]['task_id'])\n",
    "original_correct = set(original_results[original_results['score'] == 1.0]['task_id'])\n",
    "refiner_correct = set(self_refine_results[self_refine_results['score'] == 1.0]['task_id'])\n",
    "refiner_wrong = set(self_refine_results[self_refine_results['score'] == 0.0]['task_id'])\n",
    "\n",
    "improved_tasks = list(refiner_correct - original_correct)\n",
    "print(f\"{len(improved_tasks)}/{len(refiner_wrong) + len(refiner_correct)}\")\n",
    "\n",
    "improved_tasks_df = original_results[original_results['task_id'].isin(improved_tasks)].sort_values(by='task_id', ascending=True)\n",
    "url_counts = improved_tasks_df['start_url'].value_counts()\n",
    "url_counts"
   ]
  },
  {
   "cell_type": "code",
   "execution_count": 12,
   "id": "2285d676-fca4-4aa3-9940-7581e164fb6d",
   "metadata": {},
   "outputs": [],
   "source": [
    "#improved_tasks_df\n",
    "improved_df_refine = self_refine_results[self_refine_results['task_id'].isin(improved_tasks)].sort_values(by='task_id', ascending=True)\n",
    "improved_df_and_validation = self_refine_results[self_refine_results['validation_count'] > 1].sort_values(by='task_id', ascending=True)"
   ]
  },
  {
   "cell_type": "code",
   "execution_count": 13,
   "id": "85f685f2",
   "metadata": {},
   "outputs": [
    {
     "data": {
      "text/html": [
       "<div>\n",
       "<style scoped>\n",
       "    .dataframe tbody tr th:only-of-type {\n",
       "        vertical-align: middle;\n",
       "    }\n",
       "\n",
       "    .dataframe tbody tr th {\n",
       "        vertical-align: top;\n",
       "    }\n",
       "\n",
       "    .dataframe thead th {\n",
       "        text-align: right;\n",
       "    }\n",
       "</style>\n",
       "<table border=\"1\" class=\"dataframe\">\n",
       "  <thead>\n",
       "    <tr style=\"text-align: right;\">\n",
       "      <th></th>\n",
       "      <th>start_url</th>\n",
       "      <th>intent</th>\n",
       "      <th>reason</th>\n",
       "      <th>score</th>\n",
       "    </tr>\n",
       "  </thead>\n",
       "  <tbody>\n",
       "    <tr>\n",
       "      <th>0</th>\n",
       "      <td>https://www.allrecipes.com/</td>\n",
       "      <td>Find a recipe for a vegetarian lasagna that ha...</td>\n",
       "      <td>All these recipes do not explicitly include zu...</td>\n",
       "      <td>0.0</td>\n",
       "    </tr>\n",
       "    <tr>\n",
       "      <th>0</th>\n",
       "      <td>https://www.allrecipes.com/</td>\n",
       "      <td>Find a recipe for a vegetarian lasagna under 6...</td>\n",
       "      <td>After reviewing the first three vegetarian las...</td>\n",
       "      <td>0.0</td>\n",
       "    </tr>\n",
       "    <tr>\n",
       "      <th>0</th>\n",
       "      <td>https://www.allrecipes.com/</td>\n",
       "      <td>Search for a recipe for Beef Wellington on All...</td>\n",
       "      <td>none of the recipes meet the specified criteri...</td>\n",
       "      <td>0.0</td>\n",
       "    </tr>\n",
       "    <tr>\n",
       "      <th>0</th>\n",
       "      <td>https://www.allrecipes.com/</td>\n",
       "      <td>Find a recipe for a vegetarian lasagna that ha...</td>\n",
       "      <td>The page does not directly address the initial...</td>\n",
       "      <td>0.0</td>\n",
       "    </tr>\n",
       "    <tr>\n",
       "      <th>0</th>\n",
       "      <td>https://www.allrecipes.com/</td>\n",
       "      <td>Find a popular quinoa salad recipe on Allrecip...</td>\n",
       "      <td>The search result doesn't meet the requirement...</td>\n",
       "      <td>0.0</td>\n",
       "    </tr>\n",
       "    <tr>\n",
       "      <th>...</th>\n",
       "      <td>...</td>\n",
       "      <td>...</td>\n",
       "      <td>...</td>\n",
       "      <td>...</td>\n",
       "    </tr>\n",
       "    <tr>\n",
       "      <th>0</th>\n",
       "      <td>https://www.google.com/travel/flights/</td>\n",
       "      <td>Search for round-trip flights from Helsinki to...</td>\n",
       "      <td>unable to filter the specified criteria</td>\n",
       "      <td>0.0</td>\n",
       "    </tr>\n",
       "    <tr>\n",
       "      <th>0</th>\n",
       "      <td>https://www.google.com/maps/</td>\n",
       "      <td>Find all Uniqlo locations in Chicago, IL.</td>\n",
       "      <td>No requested webpage found, error</td>\n",
       "      <td>0.0</td>\n",
       "    </tr>\n",
       "    <tr>\n",
       "      <th>0</th>\n",
       "      <td>https://www.google.com/</td>\n",
       "      <td>Show me a list of comedy movies, sorted by use...</td>\n",
       "      <td>no actual results found</td>\n",
       "      <td>0.0</td>\n",
       "    </tr>\n",
       "    <tr>\n",
       "      <th>0</th>\n",
       "      <td>https://huggingface.co/</td>\n",
       "      <td>Look up TRL's forward modelling in the hugging...</td>\n",
       "      <td>Agent answer is empty</td>\n",
       "      <td>0.0</td>\n",
       "    </tr>\n",
       "    <tr>\n",
       "      <th>0</th>\n",
       "      <td>https://huggingface.co/</td>\n",
       "      <td>On the Hugging Face website, search for the mo...</td>\n",
       "      <td>Not displayed accurate result .</td>\n",
       "      <td>0.0</td>\n",
       "    </tr>\n",
       "  </tbody>\n",
       "</table>\n",
       "<p>64 rows × 4 columns</p>\n",
       "</div>"
      ],
      "text/plain": [
       "                                 start_url  \\\n",
       "0              https://www.allrecipes.com/   \n",
       "0              https://www.allrecipes.com/   \n",
       "0              https://www.allrecipes.com/   \n",
       "0              https://www.allrecipes.com/   \n",
       "0              https://www.allrecipes.com/   \n",
       "..                                     ...   \n",
       "0   https://www.google.com/travel/flights/   \n",
       "0             https://www.google.com/maps/   \n",
       "0                  https://www.google.com/   \n",
       "0                  https://huggingface.co/   \n",
       "0                  https://huggingface.co/   \n",
       "\n",
       "                                               intent  \\\n",
       "0   Find a recipe for a vegetarian lasagna that ha...   \n",
       "0   Find a recipe for a vegetarian lasagna under 6...   \n",
       "0   Search for a recipe for Beef Wellington on All...   \n",
       "0   Find a recipe for a vegetarian lasagna that ha...   \n",
       "0   Find a popular quinoa salad recipe on Allrecip...   \n",
       "..                                                ...   \n",
       "0   Search for round-trip flights from Helsinki to...   \n",
       "0           Find all Uniqlo locations in Chicago, IL.   \n",
       "0   Show me a list of comedy movies, sorted by use...   \n",
       "0   Look up TRL's forward modelling in the hugging...   \n",
       "0   On the Hugging Face website, search for the mo...   \n",
       "\n",
       "                                               reason  score  \n",
       "0   All these recipes do not explicitly include zu...    0.0  \n",
       "0   After reviewing the first three vegetarian las...    0.0  \n",
       "0   none of the recipes meet the specified criteri...    0.0  \n",
       "0   The page does not directly address the initial...    0.0  \n",
       "0   The search result doesn't meet the requirement...    0.0  \n",
       "..                                                ...    ...  \n",
       "0             unable to filter the specified criteria    0.0  \n",
       "0                   No requested webpage found, error    0.0  \n",
       "0                             no actual results found    0.0  \n",
       "0                              Agent answer is empty     0.0  \n",
       "0                     Not displayed accurate result .    0.0  \n",
       "\n",
       "[64 rows x 4 columns]"
      ]
     },
     "execution_count": 13,
     "metadata": {},
     "output_type": "execute_result"
    }
   ],
   "source": [
    "improved_df_original = original_results[original_results['task_id'].isin(improved_tasks)].sort_values(by='task_id', ascending=True)\n",
    "improved_df_original[['start_url', 'intent','reason', 'score']]"
   ]
  },
  {
   "cell_type": "code",
   "execution_count": null,
   "id": "615efb2c",
   "metadata": {},
   "outputs": [
    {
     "name": "stdout",
     "output_type": "stream",
     "text": [
      "ChatCompletionMessage(content='Based on the data provided, the top 5 categories of failure cases can be grouped mainly into: \\n\\n1) **Insufficient Matching Criteria**\\n \\nExamples:\\n- \"Find a recipe for a vegetarian lasagna that has at least a four-star rating and uses zucchini.\"\\n   \\n- \"Find a Blue iPhone 12 Pro 128gb and add to cart.\"\\n\\nReason: This happens when the agent couldn\\'t find the requested information because the criteria were too specific or the task was beyond the capabilities of the agent. The agent requires enhancements in terms of advanced functionalities.\\n\\n2) **Failure in Filtering/Sorting/Comparing Data**\\n\\nExamples:\\n- \"Find a stainless steel kitchen sink with double bowls on Amazon. Sort the results and find the cheapest one with FREE delivery.\"\\n\\n- \"Compare the prices and chips for the iPhone 14 Pro and iPhone 15 Pro models directly from Apple\\'s website.\"\\n\\nReason: This error occurs when the agent fails to filter, sort, or compare data accurately due to the complexity of the task.\\n\\n3) **Navigation Failure**\\n\\nExamples:\\n- \"How many articles on ArXiv with \\'SimCSE\\' in the title?\"\\n\\n- \"Find a AI-related story under Technology of Business. What is in the first picture in the story?\"\\n\\nReason: This happens when the agents fail to navigate to the correct section of the website to complete the task. The reason might be due to intricate website designs or inadequate agent capabilities.\\n\\n4) **Incorrect Date Handling** \\n\\nExamples: \\n- \"Find a Mexico hotel with deals for December 25-26.\"\\n   \\n- \"Reserve a hotel in downtown Chicago with a rating of 9 or higher for a stay from September 20-27, 2024, which offers free cancellation and includes a fitness center.\"\\n\\n\\nReason: This issue arises when the agent cannot correctly process the future dates indicated in the task. The web-navigation agent might need improvement on date processing functions.\\n\\n5) **Failure to Retrieve Detailed Information**\\n\\nExamples: \\n- \"Search the title \\'GPT-4 Technical Report\\' and access this paper through HTML format. Read the paper on this page and tell me what is \\'one of the main goals of developing such models\\' mentioned in the Introduction.\"\\n\\n- \"Find on Apple website how many types of AirPods (3rd generation) are available and what is the price difference.\"\\n\\nReason: This error often occurs when the agent can\\'t retrieve or process specific details from a web page. Enhancing the agent\\'s in-depth retrieval ability may reduce such errors.\\n', refusal=None, role='assistant', audio=None, function_call=None, tool_calls=None)\n"
     ]
    }
   ],
   "source": [
    "from openai import OpenAI\n",
    "client = OpenAI()\n",
    "\n",
    "data = improved_df_original[['start_url', 'intent','reason']].to_csv()\n",
    "question = f\"I need help analyzing my results from an experiment. In this experiment, I had a web-navigation agent accomplish many tasks on live websites. Each failure case was annotated by a real human with the reason for the web-navigator's failure. Help me analyze the failure cases. Please categorize the top-5 failure cases and give me examples of each. Think deeply about why each of these cases may occur and what causes each error type. Below is a csv file containing failure cases only. There are three columns: 1) start_url, which is the website the task was performed on 2) the intent, this is the task that the agent was given to perform and 3) the reason, this is the annotators' explaination for why the task failed: {data}\"\n",
    "\n",
    "completion = client.chat.completions.create(\n",
    "            model=\"gpt-4\",  # Specify the model (e.g., gpt-4 or gpt-3.5-turbo)\n",
    "            messages=[\n",
    "                {\"role\": \"system\", \"content\": \"You are a helpful assistant.\"},\n",
    "                {\"role\": \"user\", \"content\": question},\n",
    "            ]\n",
    ")\n",
    "\n",
    "print(completion.choices[0].message)"
   ]
  },
  {
   "cell_type": "code",
   "execution_count": null,
   "id": "9f7b3d66",
   "metadata": {},
   "outputs": [],
   "source": [
    "def print_confusion(gpt_eval):\n",
    "    true_positive = gpt_eval[(gpt_eval['pred_score'] == 1) & (gpt_eval['score'] == 1)]\n",
    "    true_negative = gpt_eval[(gpt_eval['pred_score'] == 0) & (gpt_eval['score'] == 0)]\n",
    "    false_positive = gpt_eval[(gpt_eval['pred_score'] == 1) & (gpt_eval['score'] == 0)]\n",
    "    false_negative = gpt_eval[(gpt_eval['pred_score'] == 0) & (gpt_eval['score'] == 1)]\n",
    "    print(len(true_positive), len(true_negative))\n",
    "    print(len(false_positive), len(false_negative))\n",
    "    gpt_eval['validator_correct'] = gpt_eval['score'] == gpt_eval['pred_score']\n",
    "    print(\"Accuracy:\", gpt_eval['validator_correct'].mean())\n",
    "    return"
   ]
  },
  {
   "cell_type": "code",
   "execution_count": 18,
   "id": "78729f43",
   "metadata": {},
   "outputs": [
    {
     "ename": "NameError",
     "evalue": "name 'model' is not defined",
     "output_type": "error",
     "traceback": [
      "\u001b[0;31m---------------------------------------------------------------------------\u001b[0m",
      "\u001b[0;31mNameError\u001b[0m                                 Traceback (most recent call last)",
      "Cell \u001b[0;32mIn[18], line 9\u001b[0m\n\u001b[1;32m      6\u001b[0m main_chat_sequence \u001b[38;5;241m=\u001b[39m original_annotation\u001b[38;5;241m.\u001b[39mget_high_level_trajectory(task_id)\n\u001b[1;32m      7\u001b[0m screenshot_paths \u001b[38;5;241m=\u001b[39m original_annotation\u001b[38;5;241m.\u001b[39mget_screenshot_paths(task_id)\n\u001b[0;32m----> 9\u001b[0m analysis \u001b[38;5;241m=\u001b[39m analyze_failure_text(main_chat_sequence, intent, model\u001b[38;5;241m=\u001b[39mmodel)\n",
      "\u001b[0;31mNameError\u001b[0m: name 'model' is not defined"
     ]
    }
   ],
   "source": [
    "from validation_agent.analyze_failure import *\n",
    "\n",
    "model = \"gpt-4o\"\n",
    "task_id = 0\n",
    "intent = original_annotation.get_intent(task_id)\n",
    "main_chat_sequence = original_annotation.get_high_level_trajectory(task_id)\n",
    "screenshot_paths = original_annotation.get_screenshot_paths(task_id)\n",
    "\n",
    "analysis = analyze_failure_text(main_chat_sequence, intent, model=model)"
   ]
  },
  {
   "cell_type": "code",
   "execution_count": null,
   "id": "a1fbc0bc",
   "metadata": {},
   "outputs": [],
   "source": [
    "# Store all of them into a dataframe (i.e. loop from improved_tasks)\n",
    "# Then summarize from a high-level (i.e. call openai for another step of anlaysis)"
   ]
  },
  {
   "cell_type": "code",
   "execution_count": null,
   "id": "420952a0",
   "metadata": {},
   "outputs": [],
   "source": [
    "# TODO: go back and add ALL organized data..."
   ]
  },
  {
   "cell_type": "markdown",
   "id": "5c02f2af",
   "metadata": {},
   "source": []
  }
 ],
 "metadata": {
  "kernelspec": {
   "display_name": "annotator_agent_e",
   "language": "python",
   "name": "python3"
  },
  "language_info": {
   "codemirror_mode": {
    "name": "ipython",
    "version": 3
   },
   "file_extension": ".py",
   "mimetype": "text/x-python",
   "name": "python",
   "nbconvert_exporter": "python",
   "pygments_lexer": "ipython3",
   "version": "3.11.9"
  }
 },
 "nbformat": 4,
 "nbformat_minor": 5
}
